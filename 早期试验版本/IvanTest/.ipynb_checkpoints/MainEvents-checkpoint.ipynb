{
 "cells": [
  {
   "cell_type": "code",
   "execution_count": 60,
   "metadata": {},
   "outputs": [],
   "source": [
    "import pymongo\n",
    "import os,sys\n",
    "import re\n",
    "import pandas as pd"
   ]
  },
  {
   "cell_type": "code",
   "execution_count": 3,
   "metadata": {},
   "outputs": [],
   "source": [
    "# # 链接本地客户端\n",
    "# myclient = pymongo.MongoClient(\"mongodb://localhost:27017\")\n",
    "# # 创建数据库\n",
    "# mydb = myclient[\"MMKeyDB\"]\n",
    "# # 创建新的集合\n",
    "# mycol = mydb[\"Users\"]"
   ]
  },
  {
   "cell_type": "code",
   "execution_count": 152,
   "metadata": {},
   "outputs": [],
   "source": [
    "class User:\n",
    "    \n",
    "    # 链接本地客户端\n",
    "    __myclient = pymongo.MongoClient(\"mongodb://localhost:27017\")\n",
    "    # 创建数据库\n",
    "    __mydb = __myclient[\"MMKeyDB\"]\n",
    "    # 创建新的集合\n",
    "    __mycol = __mydb[\"Users\"]\n",
    "    \n",
    "    \n",
    "    def __init__(self, stu_id, \n",
    "                 pwd   = \"\",\n",
    "                 name  = \"\",\n",
    "                 phone = \"\",\n",
    "                 email = \"\",\n",
    "                 admin = \"\",\n",
    "                 event = []):\n",
    "        # 实例化用户 id\n",
    "        self.id    = stu_id    # 必须填写\n",
    "        self.pwd   = pwd   \n",
    "        self.name  = name \n",
    "        self.phone = phone \n",
    "        self.email = email \n",
    "        self.admin = admin\n",
    "        self.event = event\n",
    "        User.PullUser(self)\n",
    "#         # 更新数据\n",
    "#         if User.PullUser(self):\n",
    "#             # 若有新数据更新数据，若无数据保留原数据\n",
    "#             self.pwd   = pwd   and pwd   or self.pwd\n",
    "#             self.name  = name  and name  or self.name\n",
    "#             self.phone = phone and phone or self.phone\n",
    "#             self.email = email and email or self.email\n",
    "#             self.admin = admin and admin or self.admin\n",
    "#             self.event = event and event or self.event \n",
    "#         else:\n",
    "#             self.pwd   = pwd   \n",
    "#             self.name  = name \n",
    "#             self.phone = phone \n",
    "#             self.email = email \n",
    "#             self.admin = admin\n",
    "#             self.event = event\n",
    "    \n",
    "    # 通过学号获取全部用户信息\n",
    "    def PullUser(self):\n",
    "        result = self.__mycol.find_one({ \"_id\": self.id })\n",
    "        if result:\n",
    "            self.pwd   = self.pwd   or result['password']\n",
    "            self.name  = self.name  or result['name']\n",
    "            self.phone = self.phone or result['phone']\n",
    "            self.email = self.email or result['email']\n",
    "            self.adimn = self.admin or result['admin']\n",
    "            self.event = self.event or result['event']\n",
    "            return self\n",
    "        else:\n",
    "            return False\n",
    "#     def PullUser(self):\n",
    "#         result = self.__mycol.find_one({ \"_id\": self.id })\n",
    "#         if result:\n",
    "#             self.pwd   = result['password']\n",
    "#             self.name  = result['name']\n",
    "#             self.phone = result['phone']\n",
    "#             self.email = result['email']\n",
    "#             self.adimn = result['admin']\n",
    "#             self.event = result['event']\n",
    "#             return self\n",
    "#         else:\n",
    "#             return False\n",
    "    \n",
    "    def TurnDict(self):\n",
    "        mydict = {\n",
    "            \"_id\"      : self.id ,\n",
    "            \"password\" : self.pwd,\n",
    "            \"name\"     : self.name,\n",
    "            \"phone\"    : self.phone,\n",
    "            \"email\"    : self.email,\n",
    "            \"admin\"    : self.admin,\n",
    "            \"event\"    : self.event}\n",
    "        return mydict\n",
    "    \n",
    "    # 用于在数据库中创建或修改用户信息\n",
    "    def PushUser(self):\n",
    "        mydict = User.TurnDict(self)\n",
    "        if not self.pwd :\n",
    "            return \"Plz Set Acc\"\n",
    "        elif self.__mycol.find_one({ \"_id\": self.id }):\n",
    "            myquery = {\"_id\" : self.id}\n",
    "            self.__mycol.update(myquery,mydict) \n",
    "            return \"Acc_Updated\"\n",
    "        else:\n",
    "            self.__mycol.insert_one(mydict) # 上传新的document\n",
    "            return \"Acc_Created\"\n",
    "            \n",
    "    # 用于更新password\n",
    "    def PushPwd(self):\n",
    "        if self.__mycol.find_one({ \"_id\": self.id }):\n",
    "            myquery = {\"_id\":self.id}\n",
    "            newvalue  = { \"$set\": { \"password\": self.pwd } }\n",
    "            User.mycol.update_one(myquery,newvalue)\n",
    "            return \"Pwd_Updated\"\n",
    "        else:\n",
    "            return \"Acc_Not_Found\"\n",
    "    \n",
    "    # 注销账户 请谨慎运用此函数！！！！\n",
    "    def Delete(self):\n",
    "        User.mycol.delete_one({\"_id\": self.id})\n",
    "        return \"Deleted\"\n",
    "    "
   ]
  },
  {
   "cell_type": "code",
   "execution_count": 156,
   "metadata": {},
   "outputs": [
    {
     "name": "stdout",
     "output_type": "stream",
     "text": [
      "{'_id': 'B18011936', 'password': 'Yixuan053413', 'name': 'IvanDai', 'phone': '19805188992', 'email': 'yixuan.dyf@gmail.com', 'admin': '', 'event': []} \n",
      "\n"
     ]
    }
   ],
   "source": [
    "A=User(\"B18011936\",name=\"IvanDai\").PullUser()\n",
    "\n",
    "print(A.TurnDict(),\"\\n\")\n",
    "# A.PushUser()"
   ]
  },
  {
   "cell_type": "code",
   "execution_count": 145,
   "metadata": {},
   "outputs": [
    {
     "ename": "SyntaxError",
     "evalue": "invalid syntax (<ipython-input-145-c5e3855b7ddb>, line 8)",
     "output_type": "error",
     "traceback": [
      "\u001b[0;36m  File \u001b[0;32m\"<ipython-input-145-c5e3855b7ddb>\"\u001b[0;36m, line \u001b[0;32m8\u001b[0m\n\u001b[0;31m    print(for i in test:i)\u001b[0m\n\u001b[0m            ^\u001b[0m\n\u001b[0;31mSyntaxError\u001b[0m\u001b[0;31m:\u001b[0m invalid syntax\n"
     ]
    }
   ],
   "source": [
    "a = ''\n",
    "b = 0\n",
    "a = b and a #or a \n",
    "a = '0'\n",
    "bool(a)\n",
    "\n",
    "test = [\"B18011901\",\"ab12345+\",\"test\"]\n",
    "print(for i in test:i)\n",
    "# test = User(i for i in test)\n",
    "# test.id"
   ]
  },
  {
   "cell_type": "code",
   "execution_count": 142,
   "metadata": {},
   "outputs": [
    {
     "ename": "SyntaxError",
     "evalue": "invalid syntax (<ipython-input-142-cc085017f904>, line 27)",
     "output_type": "error",
     "traceback": [
      "\u001b[0;36m  File \u001b[0;32m\"<ipython-input-142-cc085017f904>\"\u001b[0;36m, line \u001b[0;32m27\u001b[0m\n\u001b[0;31m    seat_num = 100,\u001b[0m\n\u001b[0m           ^\u001b[0m\n\u001b[0;31mSyntaxError\u001b[0m\u001b[0;31m:\u001b[0m invalid syntax\n"
     ]
    }
   ],
   "source": [
    "class ClassRoom:\n",
    "    # 链接本地客户端\n",
    "    __myclient = pymongo.MongoClient(\"mongodb://localhost:27017\")\n",
    "    # 创建数据库\n",
    "    __mydb = __myclient[\"MMKeyDB\"]\n",
    "    # 创建新的集合\n",
    "    __mycol = __mydb[\"ClassRoom\"]\n",
    "    \n",
    "    # 判断是否输入id或是输入name，如果有输入则转译\n",
    "    def Name2Id(room_id,name):\n",
    "        bool_n  = bool(re.match(\"教\\d{1}-\\d{3}\",name))\n",
    "        bool_id = bool(re.match(\"B\\d{1}R\\d{3}\",room_id))\n",
    "        if not (bool_id or bool_n):\n",
    "            return False\n",
    "        elif bool_n:\n",
    "            room_id = \"B\" + name[1] + \"R\" + name[3:5]\n",
    "        else:\n",
    "            name = \"教\" + room_id[1] + \"-\" + room_id[3:5]\n",
    "            \n",
    "        return room_id,name\n",
    "\n",
    "    def __init__(self, \n",
    "                 room_id  = \"\",\n",
    "                 name     = \"\",\n",
    "                 seat_num = 0,\n",
    "                 key_id   = \"\",\n",
    "                 event    = []):\n",
    "        \n",
    "        if not(Name2Id(room_id,name)):\n",
    "            return \"WARING!!!\"\n",
    "        else:\n",
    "            self.room_id,self.name = Name2Id(room_id,name)\n",
    "            self.buliding = int(self.id[1])\n",
    "            self.seat_num = seat_num\n",
    "            self.key_id   = key_id\n",
    "            slef.event    = event\n",
    "            ClassRoom.PullClassroom(self)\n",
    "            \n",
    "    def PullClassroom(self):\n",
    "        \n",
    "            "
   ]
  },
  {
   "cell_type": "code",
   "execution_count": 67,
   "metadata": {},
   "outputs": [
    {
     "data": {
      "text/plain": [
       "'B3R102'"
      ]
     },
     "execution_count": 67,
     "metadata": {},
     "output_type": "execute_result"
    }
   ],
   "source": [
    "name = \"教3-102\"\n",
    "bool(re.match(\"教\\d{1}-\\d{3}\",name))\n",
    "\"B\" + name[1] + \"R\" + name[3:6]"
   ]
  },
  {
   "cell_type": "code",
   "execution_count": 53,
   "metadata": {},
   "outputs": [
    {
     "data": {
      "text/plain": [
       "1"
      ]
     },
     "execution_count": 53,
     "metadata": {},
     "output_type": "execute_result"
    }
   ],
   "source": [
    "class test:\n",
    "    __a = 0\n",
    "    def __init__(self):\n",
    "        self.id = self.__a + 1\n",
    "        self.__a = self.__a + 1\n",
    "        return"
   ]
  },
  {
   "cell_type": "code",
   "execution_count": null,
   "metadata": {},
   "outputs": [],
   "source": []
  }
 ],
 "metadata": {
  "kernelspec": {
   "display_name": "Python 3",
   "language": "python",
   "name": "python3"
  },
  "language_info": {
   "codemirror_mode": {
    "name": "ipython",
    "version": 3
   },
   "file_extension": ".py",
   "mimetype": "text/x-python",
   "name": "python",
   "nbconvert_exporter": "python",
   "pygments_lexer": "ipython3",
   "version": "3.7.6"
  }
 },
 "nbformat": 4,
 "nbformat_minor": 4
}
