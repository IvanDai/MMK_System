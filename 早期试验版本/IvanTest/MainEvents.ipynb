{
 "cells": [
  {
   "cell_type": "code",
   "execution_count": 17,
   "metadata": {},
   "outputs": [],
   "source": [
    "import pymongo\n",
    "import os,sys\n",
    "import re\n",
    "import pandas as pd"
   ]
  },
  {
   "cell_type": "code",
   "execution_count": 18,
   "metadata": {},
   "outputs": [],
   "source": [
    "# # 链接本地客户端\n",
    "# myclient = pymongo.MongoClient(\"mongodb://localhost:27017\")\n",
    "# # 创建数据库\n",
    "# mydb = myclient[\"MMKeyDB\"]\n",
    "# # 创建新的集合\n",
    "# mycol = mydb[\"Users\"]"
   ]
  },
  {
   "cell_type": "code",
   "execution_count": 19,
   "metadata": {},
   "outputs": [],
   "source": [
    "class User:\n",
    "    \n",
    "    # 链接本地客户端\n",
    "    __myclient = pymongo.MongoClient(\"mongodb://localhost:27017\")\n",
    "    # 创建数据库\n",
    "    __mydb = __myclient[\"MMKeyDB\"]\n",
    "    # 创建新的集合\n",
    "    __mycol = __mydb[\"Users\"]\n",
    "    \n",
    "    \n",
    "    def __init__(self, stu_id, \n",
    "                 pwd   = \"\",\n",
    "                 name  = \"\",\n",
    "                 phone = \"\",\n",
    "                 email = \"\",\n",
    "                 admin = \"\",\n",
    "                 event = []):\n",
    "        # 实例化用户 id\n",
    "        self.id    = stu_id    # 必须填写\n",
    "        self.pwd   = pwd   \n",
    "        self.name  = name \n",
    "        self.phone = phone \n",
    "        self.email = email \n",
    "        self.admin = admin\n",
    "        self.event = event\n",
    "        User.PullUser(self)\n",
    "#         # 更新数据\n",
    "#         if User.PullUser(self):\n",
    "#             # 若有新数据更新数据，若无数据保留原数据\n",
    "#             self.pwd   = pwd   and pwd   or self.pwd\n",
    "#             self.name  = name  and name  or self.name\n",
    "#             self.phone = phone and phone or self.phone\n",
    "#             self.email = email and email or self.email\n",
    "#             self.admin = admin and admin or self.admin\n",
    "#             self.event = event and event or self.event \n",
    "#         else:\n",
    "#             self.pwd   = pwd   \n",
    "#             self.name  = name \n",
    "#             self.phone = phone \n",
    "#             self.email = email \n",
    "#             self.admin = admin\n",
    "#             self.event = event\n",
    "    \n",
    "    # 通过学号获取全部用户信息\n",
    "    def PullUser(self):\n",
    "        result = self.__mycol.find_one({ \"_id\": self.id })\n",
    "        if result:\n",
    "            self.pwd   = self.pwd   or result['password']\n",
    "            self.name  = self.name  or result['name']\n",
    "            self.phone = self.phone or result['phone']\n",
    "            self.email = self.email or result['email']\n",
    "            self.adimn = self.admin or result['admin']\n",
    "            self.event = self.event or result['event']\n",
    "            return self\n",
    "        else:\n",
    "            return False\n",
    "#     def PullUser(self):\n",
    "#         result = self.__mycol.find_one({ \"_id\": self.id })\n",
    "#         if result:\n",
    "#             self.pwd   = result['password']\n",
    "#             self.name  = result['name']\n",
    "#             self.phone = result['phone']\n",
    "#             self.email = result['email']\n",
    "#             self.adimn = result['admin']\n",
    "#             self.event = result['event']\n",
    "#             return self\n",
    "#         else:\n",
    "#             return False\n",
    "    \n",
    "    def TurnDict(self):\n",
    "        mydict = {\n",
    "            \"_id\"      : self.id ,\n",
    "            \"password\" : self.pwd,\n",
    "            \"name\"     : self.name,\n",
    "            \"phone\"    : self.phone,\n",
    "            \"email\"    : self.email,\n",
    "            \"admin\"    : self.admin,\n",
    "            \"event\"    : self.event}\n",
    "        return mydict\n",
    "    \n",
    "    # 用于在数据库中创建或修改用户信息\n",
    "    def PushUser(self):\n",
    "        mydict = User.TurnDict(self)\n",
    "        if not self.pwd :\n",
    "            return \"Plz Set Acc\"\n",
    "        elif self.__mycol.find_one({ \"_id\": self.id }):\n",
    "            myquery = {\"_id\" : self.id}\n",
    "            self.__mycol.update(myquery,mydict) \n",
    "            return \"Acc_Updated\"\n",
    "        else:\n",
    "            self.__mycol.insert_one(mydict) # 上传新的document\n",
    "            return \"Acc_Created\"\n",
    "            \n",
    "    # 用于更新password\n",
    "    def PushPwd(self):\n",
    "        if self.__mycol.find_one({ \"_id\": self.id }):\n",
    "            myquery = {\"_id\":self.id}\n",
    "            newvalue  = { \"$set\": { \"password\": self.pwd } }\n",
    "            User.mycol.update_one(myquery,newvalue)\n",
    "            return \"Pwd_Updated\"\n",
    "        else:\n",
    "            return \"Acc_Not_Found\"\n",
    "    \n",
    "    # 注销账户 请谨慎运用此函数！！！！\n",
    "    def Delete(self):\n",
    "        User.__mycol.delete_one({\"_id\": self.id})\n",
    "        return \"Deleted\"\n",
    "    "
   ]
  },
  {
   "cell_type": "code",
   "execution_count": 9,
   "metadata": {},
   "outputs": [
    {
     "name": "stdout",
     "output_type": "stream",
     "text": [
      "B18011901 \n",
      "\n"
     ]
    },
    {
     "name": "stderr",
     "output_type": "stream",
     "text": [
      "/usr/local/anaconda3/lib/python3.7/site-packages/ipykernel_launcher.py:88: DeprecationWarning: update is deprecated. Use replace_one, update_one or update_many instead.\n"
     ]
    },
    {
     "data": {
      "text/plain": [
       "'Acc_Updated'"
      ]
     },
     "execution_count": 9,
     "metadata": {},
     "output_type": "execute_result"
    }
   ],
   "source": [
    "A = User(stu_id=\"B18011901\",name=\"test\")\n",
    "A.pwd = \"Yixuan053413\"\n",
    "A.admin = \"0\"\n",
    "print(A.stu_id,\"\\n\")\n",
    "\n",
    "A.PushUser()"
   ]
  },
  {
   "cell_type": "code",
   "execution_count": 145,
   "metadata": {},
   "outputs": [
    {
     "ename": "SyntaxError",
     "evalue": "invalid syntax (<ipython-input-145-c5e3855b7ddb>, line 8)",
     "output_type": "error",
     "traceback": [
      "\u001b[0;36m  File \u001b[0;32m\"<ipython-input-145-c5e3855b7ddb>\"\u001b[0;36m, line \u001b[0;32m8\u001b[0m\n\u001b[0;31m    print(for i in test:i)\u001b[0m\n\u001b[0m            ^\u001b[0m\n\u001b[0;31mSyntaxError\u001b[0m\u001b[0;31m:\u001b[0m invalid syntax\n"
     ]
    }
   ],
   "source": [
    "a = ''\n",
    "b = 0\n",
    "a = b and a #or a \n",
    "a = '0'\n",
    "bool(a)\n",
    "\n",
    "test = [\"B18011901\",\"ab12345+\",\"test\"]\n",
    "print(for i in test:i)\n",
    "# test = User(i for i in test)\n",
    "# test.id"
   ]
  },
  {
   "cell_type": "code",
   "execution_count": 20,
   "metadata": {},
   "outputs": [],
   "source": [
    "class ClassRoom:\n",
    "    # 链接本地客户端\n",
    "    __myclient = pymongo.MongoClient(\"mongodb://localhost:27017\")\n",
    "    # 创建数据库\n",
    "    __mydb = __myclient[\"MMKeyDB\"]\n",
    "    # 创建新的集合\n",
    "    __mycol = __mydb[\"ClassRoom\"]\n",
    "    \n",
    "    # 判断是否输入id或是输入name，如果有输入则转译\n",
    "    def Name2Id(room_id,name):\n",
    "        bool_n  = bool(re.match(\"教\\d{1}-\\d{3}\",name))\n",
    "        bool_id = bool(re.match(\"B\\d{1}R\\d{3}\",room_id))\n",
    "        if not (bool_id or bool_n):\n",
    "            return False\n",
    "        elif bool_n:\n",
    "            room_id = \"B\" + name[1] + \"R\" + name[3:6]\n",
    "        else:\n",
    "            name = \"教\" + room_id[1] + \"-\" + room_id[3:6]\n",
    "            \n",
    "        return room_id,name\n",
    "\n",
    "    def __init__(self, \n",
    "                 room_id  = \"\",\n",
    "                 name     = \"\",\n",
    "                 seats = 0,\n",
    "                 key_id   = \"\",\n",
    "                 event    = []):\n",
    "        \n",
    "        if not(ClassRoom.Name2Id(room_id,name)):\n",
    "            self.WrongFlag = 1\n",
    "        else:\n",
    "            self.id,self.name = ClassRoom.Name2Id(room_id,name)\n",
    "            self.seats    = seats\n",
    "            self.key_id   = key_id\n",
    "            self.event    = event\n",
    "            ClassRoom.PullClassroom(self)\n",
    "            \n",
    "    def PullClassroom(self):\n",
    "        result = self.__mycol.find_one({ \"_id\": self.id })\n",
    "        if result:\n",
    "            self.name  = self.name  or result['name']\n",
    "            self.seats = self.seats or result['seats']\n",
    "            self.key_id= self.key_id or result['key_id']\n",
    "            self.event = self.event or result['event']\n",
    "            return self\n",
    "        else:\n",
    "            return False\n",
    "        \n",
    "    def TurnDict(self):\n",
    "        mydict = {\n",
    "            \"_id\"      : self.id ,\n",
    "            \"name\"     : self.name,\n",
    "            \"seats\"    : self.seats,\n",
    "            \"key_id\"   : self.key_id,\n",
    "            \"event\"    : self.event}\n",
    "        return mydict\n",
    "\n",
    "    def PushClassroom(self):\n",
    "        mydict = ClassRoom.TurnDict(self)\n",
    "        if self.__mycol.find_one({ \"_id\": self.id }):\n",
    "            myquery = {\"_id\" : self.id}\n",
    "            self.__mycol.update(myquery,mydict) \n",
    "            return \"Acc_Updated\"\n",
    "        else:\n",
    "            self.__mycol.insert_one(mydict) # 上传新的document\n",
    "            return \"Acc_Created\"\n",
    "\n",
    "    # 删除教室记录\n",
    "    def Delete(self):\n",
    "        ClassRoom.__mycol.delete_one({\"_id\": self.id})\n",
    "        return \"Deleted\" \n",
    "    "
   ]
  },
  {
   "cell_type": "code",
   "execution_count": 16,
   "metadata": {},
   "outputs": [
    {
     "data": {
      "text/plain": [
       "'Acc_Created'"
      ]
     },
     "execution_count": 16,
     "metadata": {},
     "output_type": "execute_result"
    }
   ],
   "source": [
    "name = ClassRoom(name = \"教3-102\")\n",
    "name.PushClassroom()"
   ]
  },
  {
   "cell_type": "code",
   "execution_count": 13,
   "metadata": {},
   "outputs": [
    {
     "ename": "SyntaxError",
     "evalue": "invalid syntax (<ipython-input-13-907b56a39f8a>, line 19)",
     "output_type": "error",
     "traceback": [
      "\u001b[0;36m  File \u001b[0;32m\"<ipython-input-13-907b56a39f8a>\"\u001b[0;36m, line \u001b[0;32m19\u001b[0m\n\u001b[0;31m    def CheckEvent(user,room,date,quan):\u001b[0m\n\u001b[0m      ^\u001b[0m\n\u001b[0;31mSyntaxError\u001b[0m\u001b[0;31m:\u001b[0m invalid syntax\n"
     ]
    }
   ],
   "source": [
    "class Event:\n",
    "    # 链接本地客户端\n",
    "    __myclient = pymongo.MongoClient(\"mongodb://localhost:27017\")\n",
    "    # 创建数据库\n",
    "    __mydb = __myclient[\"MMKeyDB\"]\n",
    "    # 创建新的集合\n",
    "    __mycol = __mydb[\"Events\"]\n",
    "    # 时间对应表\n",
    "    classlist = {1:\"第1、2节课\",\n",
    "                 2:\"第3、4、5节课\",\n",
    "                 3:\"第6、7节课\",\n",
    "                 4:\"第8、9节课\",\n",
    "                 5:\"第10、11、12节课\"}\n",
    "    timelist =  {1:\"8:00-9:35\",\n",
    "                 2:\"9:50-12:15\",\n",
    "                 3:\"13:45-15:20\",\n",
    "                 4:\"15:35-17:10\",\n",
    "                 5:\"18:30-21:05\"}\n",
    "       \n",
    "    def CheckEvent(roomID,date,quan):\n",
    "        result= Event.__mycol.find_one({\"room_id\": roomID,\n",
    "                                        \"date\":date,\n",
    "                                        \"quantuma\":quan})\n",
    "        if result:\n",
    "            return result\n",
    "        else:\n",
    "            return False\n",
    "        \n",
    "    def AddEvent(userID,roomID,date,quan):\n",
    "        if not CheckEvent(roomID,date,quan):\n",
    "            mydict = {\"room_id\": roomID,\n",
    "                      \"user_id\": userID,\n",
    "                      \"date\"  : date,\n",
    "                      \"quantuma\":quan}\n",
    "            self.__mycol.insert_one(mydict)\n",
    "            return True\n",
    "        else:\n",
    "            return False\n",
    "            \n",
    "    def DelEvent(userID,roomID,date,quan):\n",
    "        event = {\"room_id\": roomID,\"user_id\": userID,\n",
    "                 \"date\":date,\"quantuma\":quan}\n",
    "        result = Event.__mycol.find_one(event)\n",
    "        if result:\n",
    "            Event.mycol.delete_one(event)\n",
    "            return True\n",
    "        else return False\n",
    "    \n",
    "    \n",
    "                 \n",
    "    "
   ]
  },
  {
   "cell_type": "code",
   "execution_count": 28,
   "metadata": {},
   "outputs": [
    {
     "name": "stderr",
     "output_type": "stream",
     "text": [
      "/usr/local/anaconda3/lib/python3.7/site-packages/ipykernel_launcher.py:62: DeprecationWarning: update is deprecated. Use replace_one, update_one or update_many instead.\n"
     ]
    }
   ],
   "source": [
    "for build in range(1,5):\n",
    "    for floor in range(1,5):\n",
    "        for room in range(1,10):\n",
    "            room_id = \"B\"+str(build)+\"R\"+str(floor)+\"0\"+str(room)\n",
    "            cr = ClassRoom(room_id)\n",
    "            if room in range(3):\n",
    "                cr.seats = 234\n",
    "            elif floor == 1:\n",
    "                cr.seats = 50\n",
    "            else:\n",
    "                cr.seats = 120\n",
    "            cr.PushClassroom()"
   ]
  },
  {
   "cell_type": "code",
   "execution_count": 5,
   "metadata": {},
   "outputs": [
    {
     "data": {
      "text/plain": [
       "'8:00-9:00'"
      ]
     },
     "execution_count": 5,
     "metadata": {},
     "output_type": "execute_result"
    }
   ],
   "source": []
  },
  {
   "cell_type": "code",
   "execution_count": null,
   "metadata": {},
   "outputs": [],
   "source": []
  }
 ],
 "metadata": {
  "kernelspec": {
   "display_name": "Python 3",
   "language": "python",
   "name": "python3"
  },
  "language_info": {
   "codemirror_mode": {
    "name": "ipython",
    "version": 3
   },
   "file_extension": ".py",
   "mimetype": "text/x-python",
   "name": "python",
   "nbconvert_exporter": "python",
   "pygments_lexer": "ipython3",
   "version": "3.7.6"
  }
 },
 "nbformat": 4,
 "nbformat_minor": 4
}
