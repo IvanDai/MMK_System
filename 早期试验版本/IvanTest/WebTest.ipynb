{
 "cells": [
  {
   "cell_type": "code",
   "execution_count": 1,
   "metadata": {},
   "outputs": [],
   "source": [
    "import sys\n",
    "from PyQt5.QtWidgets import QApplication, QWidget  #导入必要的组件\n",
    "\n",
    "if __name__ == '__main__':\n",
    "    app = QApplication(sys.argv)   #每一个程序都要建立一个，相当于一个画布，其他组件可以在上面画，放置，是一个父组件 sys.argv用来表示可以用命令行运行代码\n",
    "    w = QWidget()       #建立一个窗口\n",
    "    w.resize(250, 150)  #重置为大小250，150大小的窗口\n",
    "    w.move(300, 300)    #移动到300，300这个桌面的坐标上\n",
    "    w.setWindowTitle('Simple') #设置窗口的标题\n",
    "    w.show()  \n",
    "    #显示它，如果没有这句话，前面做的工作就没法看到，只是存进了内存里\n",
    "#     sys.exit(app.exec_()) #关闭程序，没有这句就只能强制关闭程序了，app.exec_()，只有这个好像也可以成功，可能是需要让程序知道进程都已经释放了吧"
   ]
  },
  {
   "cell_type": "code",
   "execution_count": null,
   "metadata": {},
   "outputs": [],
   "source": []
  },
  {
   "cell_type": "code",
   "execution_count": null,
   "metadata": {},
   "outputs": [],
   "source": []
  }
 ],
 "metadata": {
  "kernelspec": {
   "display_name": "Python 3",
   "language": "python",
   "name": "python3"
  },
  "language_info": {
   "codemirror_mode": {
    "name": "ipython",
    "version": 3
   },
   "file_extension": ".py",
   "mimetype": "text/x-python",
   "name": "python",
   "nbconvert_exporter": "python",
   "pygments_lexer": "ipython3",
   "version": "3.7.6"
  }
 },
 "nbformat": 4,
 "nbformat_minor": 4
}
