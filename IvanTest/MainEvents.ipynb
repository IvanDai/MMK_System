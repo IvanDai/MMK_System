{
 "cells": [
  {
   "cell_type": "code",
   "execution_count": 1,
   "metadata": {},
   "outputs": [],
   "source": [
    "import pymongo\n",
    "import os,sys\n",
    "import numpy as np\n",
    "import pandas as pd"
   ]
  },
  {
   "cell_type": "code",
   "execution_count": 3,
   "metadata": {},
   "outputs": [],
   "source": [
    "# # 链接本地客户端\n",
    "# myclient = pymongo.MongoClient(\"mongodb://localhost:27017\")\n",
    "# # 创建数据库\n",
    "# mydb = myclient[\"MMKeyDB\"]\n",
    "# # 创建新的集合\n",
    "# mycol = mydb[\"Users\"]"
   ]
  },
  {
   "cell_type": "code",
   "execution_count": 14,
   "metadata": {},
   "outputs": [],
   "source": [
    "class User:\n",
    "    org_pwd   = \"Ab123456+\"\n",
    "    org_name  = \"None\"\n",
    "    org_phone = \"None\"\n",
    "    org_email = \"None\"\n",
    "    org_event = []    # 用于存储借用事件[eventID]\n",
    "    \n",
    "    # 链接本地客户端\n",
    "    myclient = pymongo.MongoClient(\"mongodb://localhost:27017\")\n",
    "    # 创建数据库\n",
    "    mydb = myclient[\"MMKeyDB\"]\n",
    "    # 创建新的集合\n",
    "    mycol = mydb[\"Users\"]\n",
    "    \n",
    "    def __init__(self, stu_id, \n",
    "                 password = org_pwd,\n",
    "                 name  = org_name,\n",
    "                 phone = org_phone,\n",
    "                 email = org_email,\n",
    "                 event = org_event):\n",
    "        self.id    = stu_id    # 必须填写\n",
    "        self.pwd   = password  # 必须填写\n",
    "        self.name  = name\n",
    "        self.phone = phone\n",
    "        self.email = email\n",
    "        self.event = event\n",
    "    \n",
    "    # 用于在数据库中创建或修改用户信息\n",
    "    def PushAll(self):\n",
    "        mydict = {\n",
    "            \"_id\"      : self.id ,\n",
    "            \"password\" : self.pwd,\n",
    "            \"name\"     : self.name,\n",
    "            \"phone\"    : self.phone,\n",
    "            \"email\"    : self.email,\n",
    "            \"event\"    : self.event}\n",
    "        \n",
    "        if User.mycol.find_one({ \"_id\": self.id }):\n",
    "            myquery = {\"_id\" : self.id}\n",
    "            User.mycol.update(myquery,mydict) \n",
    "            return \"Acc_Updated\"\n",
    "        else:\n",
    "            User.mycol.insert_one(mydict) # 上传新的document\n",
    "            return \"Acc_Created\"\n",
    "            \n",
    "    # 用于更新password\n",
    "    def PushPwd(self):\n",
    "        if User.mycol.find_one({ \"_id\": self.id }):\n",
    "            myquery = {\"_id\":self.id}\n",
    "            newvalue  = { \"$set\": { \"password\": self.pwd } }\n",
    "            User.mycol.update_one(myquery,newvalue)\n",
    "            return \"Pwd_Updated\"\n",
    "        else:\n",
    "            return \"Acc_Not_Found\"\n",
    "    \n",
    "    # 注销账户 请谨慎运用此函数！！！！\n",
    "    def Delete(self):\n",
    "        User.mycol.delete_one({\"_id\": self.id})\n",
    "        return \"Deleted\"\n",
    "    "
   ]
  },
  {
   "cell_type": "code",
   "execution_count": 15,
   "metadata": {},
   "outputs": [
    {
     "data": {
      "text/plain": [
       "'Acc_Not_Found'"
      ]
     },
     "execution_count": 15,
     "metadata": {},
     "output_type": "execute_result"
    }
   ],
   "source": [
    "a = User(\"B18011989\")\n",
    "a.PushPwd()"
   ]
  },
  {
   "cell_type": "code",
   "execution_count": 11,
   "metadata": {},
   "outputs": [
    {
     "data": {
      "text/plain": [
       "False"
      ]
     },
     "execution_count": 11,
     "metadata": {},
     "output_type": "execute_result"
    }
   ],
   "source": [
    "mycol = mydb[\"Users\"]\n",
    "index = { \"_id\": \"B18011910\" }\n",
    "bool(mycol.find_one(index))"
   ]
  },
  {
   "cell_type": "code",
   "execution_count": null,
   "metadata": {},
   "outputs": [],
   "source": []
  }
 ],
 "metadata": {
  "kernelspec": {
   "display_name": "Python 3",
   "language": "python",
   "name": "python3"
  },
  "language_info": {
   "codemirror_mode": {
    "name": "ipython",
    "version": 3
   },
   "file_extension": ".py",
   "mimetype": "text/x-python",
   "name": "python",
   "nbconvert_exporter": "python",
   "pygments_lexer": "ipython3",
   "version": "3.7.6"
  }
 },
 "nbformat": 4,
 "nbformat_minor": 4
}
